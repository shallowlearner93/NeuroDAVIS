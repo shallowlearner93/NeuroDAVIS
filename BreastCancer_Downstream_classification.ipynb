{
 "cells": [
  {
   "cell_type": "markdown",
   "id": "cd5be007",
   "metadata": {},
   "source": [
    "# Importing libraries"
   ]
  },
  {
   "cell_type": "code",
   "execution_count": 1,
   "id": "f6f17284",
   "metadata": {},
   "outputs": [],
   "source": [
    "import numpy as np\n",
    "import pandas as pd\n",
    "import matplotlib.pyplot as plt\n",
    "import Datasets as DS\n",
    "import NeuroDAVIS as nd\n",
    "import DownstreamAnalysis as DA\n",
    "from sklearn.metrics.pairwise import euclidean_distances"
   ]
  },
  {
   "cell_type": "markdown",
   "id": "c3c3904e",
   "metadata": {},
   "source": [
    "# Loading data"
   ]
  },
  {
   "cell_type": "code",
   "execution_count": 2,
   "id": "27867353",
   "metadata": {},
   "outputs": [],
   "source": [
    "X,y = DS.LoadData('BreastCancer')"
   ]
  },
  {
   "cell_type": "code",
   "execution_count": 3,
   "id": "54e9c71d",
   "metadata": {},
   "outputs": [
    {
     "data": {
      "text/plain": [
       "(569, 30)"
      ]
     },
     "execution_count": 3,
     "metadata": {},
     "output_type": "execute_result"
    }
   ],
   "source": [
    "X.shape"
   ]
  },
  {
   "cell_type": "code",
   "execution_count": 4,
   "id": "757d603a",
   "metadata": {},
   "outputs": [],
   "source": [
    "y = y.reshape((y.shape[0],))"
   ]
  },
  {
   "cell_type": "markdown",
   "id": "e0394813",
   "metadata": {},
   "source": [
    "# Applying NeuroDAVIS"
   ]
  },
  {
   "cell_type": "code",
   "execution_count": 5,
   "id": "fdfa0072",
   "metadata": {
    "scrolled": true
   },
   "outputs": [
    {
     "name": "stdout",
     "output_type": "stream",
     "text": [
      "Iteration 1\n",
      "Iteration 2\n",
      "Iteration 3\n",
      "Iteration 4\n",
      "Iteration 5\n",
      "Iteration 6\n",
      "Iteration 7\n",
      "Iteration 8\n",
      "Iteration 9\n",
      "Iteration 10\n"
     ]
    }
   ],
   "source": [
    "iteration = 10\n",
    "data = np.eye(X.shape[0])\n",
    "res_knn_neuroDAVIS = []\n",
    "res_rfc_neuroDAVIS = []\n",
    "for i in range(iteration):\n",
    "    print(\"Iteration {}\".format(i+1))\n",
    "    neuroDAVIS, Low = nd.NeuroDAVIS(data, X, dim=2, lambda_act=0.0001, lambda_weight=0.001, num_neuron=[90,45], bs=16, epoch=1000, sd=0, verbose=0)\n",
    "    X_embedding = Low.predict(data)\n",
    "    res_knn_neuroDAVIS.append(DA.Knn(X_embedding, y, 5))\n",
    "    res_rfc_neuroDAVIS.append(DA.RFC(X_embedding, y))"
   ]
  },
  {
   "cell_type": "code",
   "execution_count": 6,
   "id": "b5de3e3b",
   "metadata": {},
   "outputs": [
    {
     "data": {
      "text/html": [
       "<div>\n",
       "<style scoped>\n",
       "    .dataframe tbody tr th:only-of-type {\n",
       "        vertical-align: middle;\n",
       "    }\n",
       "\n",
       "    .dataframe tbody tr th {\n",
       "        vertical-align: top;\n",
       "    }\n",
       "\n",
       "    .dataframe thead th {\n",
       "        text-align: right;\n",
       "    }\n",
       "</style>\n",
       "<table border=\"1\" class=\"dataframe\">\n",
       "  <thead>\n",
       "    <tr style=\"text-align: right;\">\n",
       "      <th></th>\n",
       "      <th>Acc</th>\n",
       "      <th>Pre</th>\n",
       "      <th>Rec</th>\n",
       "      <th>F1</th>\n",
       "    </tr>\n",
       "  </thead>\n",
       "  <tbody>\n",
       "    <tr>\n",
       "      <th>0</th>\n",
       "      <td>0.929825</td>\n",
       "      <td>0.929926</td>\n",
       "      <td>0.929825</td>\n",
       "      <td>0.929578</td>\n",
       "    </tr>\n",
       "    <tr>\n",
       "      <th>1</th>\n",
       "      <td>0.921053</td>\n",
       "      <td>0.921514</td>\n",
       "      <td>0.921053</td>\n",
       "      <td>0.920616</td>\n",
       "    </tr>\n",
       "    <tr>\n",
       "      <th>2</th>\n",
       "      <td>0.921053</td>\n",
       "      <td>0.920935</td>\n",
       "      <td>0.921053</td>\n",
       "      <td>0.920921</td>\n",
       "    </tr>\n",
       "    <tr>\n",
       "      <th>3</th>\n",
       "      <td>0.929825</td>\n",
       "      <td>0.929926</td>\n",
       "      <td>0.929825</td>\n",
       "      <td>0.929578</td>\n",
       "    </tr>\n",
       "    <tr>\n",
       "      <th>4</th>\n",
       "      <td>0.929825</td>\n",
       "      <td>0.929926</td>\n",
       "      <td>0.929825</td>\n",
       "      <td>0.929578</td>\n",
       "    </tr>\n",
       "    <tr>\n",
       "      <th>5</th>\n",
       "      <td>0.921053</td>\n",
       "      <td>0.921514</td>\n",
       "      <td>0.921053</td>\n",
       "      <td>0.920616</td>\n",
       "    </tr>\n",
       "    <tr>\n",
       "      <th>6</th>\n",
       "      <td>0.929825</td>\n",
       "      <td>0.931158</td>\n",
       "      <td>0.929825</td>\n",
       "      <td>0.929282</td>\n",
       "    </tr>\n",
       "    <tr>\n",
       "      <th>7</th>\n",
       "      <td>0.921053</td>\n",
       "      <td>0.921514</td>\n",
       "      <td>0.921053</td>\n",
       "      <td>0.920616</td>\n",
       "    </tr>\n",
       "    <tr>\n",
       "      <th>8</th>\n",
       "      <td>0.912281</td>\n",
       "      <td>0.912247</td>\n",
       "      <td>0.912281</td>\n",
       "      <td>0.911972</td>\n",
       "    </tr>\n",
       "    <tr>\n",
       "      <th>9</th>\n",
       "      <td>0.921053</td>\n",
       "      <td>0.921514</td>\n",
       "      <td>0.921053</td>\n",
       "      <td>0.920616</td>\n",
       "    </tr>\n",
       "  </tbody>\n",
       "</table>\n",
       "</div>"
      ],
      "text/plain": [
       "        Acc       Pre       Rec        F1\n",
       "0  0.929825  0.929926  0.929825  0.929578\n",
       "1  0.921053  0.921514  0.921053  0.920616\n",
       "2  0.921053  0.920935  0.921053  0.920921\n",
       "3  0.929825  0.929926  0.929825  0.929578\n",
       "4  0.929825  0.929926  0.929825  0.929578\n",
       "5  0.921053  0.921514  0.921053  0.920616\n",
       "6  0.929825  0.931158  0.929825  0.929282\n",
       "7  0.921053  0.921514  0.921053  0.920616\n",
       "8  0.912281  0.912247  0.912281  0.911972\n",
       "9  0.921053  0.921514  0.921053  0.920616"
      ]
     },
     "execution_count": 6,
     "metadata": {},
     "output_type": "execute_result"
    }
   ],
   "source": [
    "pd.DataFrame(res_knn_neuroDAVIS,columns =['Acc','Pre','Rec','F1'])"
   ]
  },
  {
   "cell_type": "code",
   "execution_count": 7,
   "id": "7546735a",
   "metadata": {},
   "outputs": [
    {
     "data": {
      "text/html": [
       "<div>\n",
       "<style scoped>\n",
       "    .dataframe tbody tr th:only-of-type {\n",
       "        vertical-align: middle;\n",
       "    }\n",
       "\n",
       "    .dataframe tbody tr th {\n",
       "        vertical-align: top;\n",
       "    }\n",
       "\n",
       "    .dataframe thead th {\n",
       "        text-align: right;\n",
       "    }\n",
       "</style>\n",
       "<table border=\"1\" class=\"dataframe\">\n",
       "  <thead>\n",
       "    <tr style=\"text-align: right;\">\n",
       "      <th></th>\n",
       "      <th>Acc</th>\n",
       "      <th>Pre</th>\n",
       "      <th>Rec</th>\n",
       "      <th>F1</th>\n",
       "    </tr>\n",
       "  </thead>\n",
       "  <tbody>\n",
       "    <tr>\n",
       "      <th>0</th>\n",
       "      <td>0.938596</td>\n",
       "      <td>0.938929</td>\n",
       "      <td>0.938596</td>\n",
       "      <td>0.938689</td>\n",
       "    </tr>\n",
       "    <tr>\n",
       "      <th>1</th>\n",
       "      <td>0.938596</td>\n",
       "      <td>0.938540</td>\n",
       "      <td>0.938596</td>\n",
       "      <td>0.938494</td>\n",
       "    </tr>\n",
       "    <tr>\n",
       "      <th>2</th>\n",
       "      <td>0.912281</td>\n",
       "      <td>0.913292</td>\n",
       "      <td>0.912281</td>\n",
       "      <td>0.911603</td>\n",
       "    </tr>\n",
       "    <tr>\n",
       "      <th>3</th>\n",
       "      <td>0.938596</td>\n",
       "      <td>0.938540</td>\n",
       "      <td>0.938596</td>\n",
       "      <td>0.938494</td>\n",
       "    </tr>\n",
       "    <tr>\n",
       "      <th>4</th>\n",
       "      <td>0.929825</td>\n",
       "      <td>0.929926</td>\n",
       "      <td>0.929825</td>\n",
       "      <td>0.929578</td>\n",
       "    </tr>\n",
       "    <tr>\n",
       "      <th>5</th>\n",
       "      <td>0.938596</td>\n",
       "      <td>0.939280</td>\n",
       "      <td>0.938596</td>\n",
       "      <td>0.938257</td>\n",
       "    </tr>\n",
       "    <tr>\n",
       "      <th>6</th>\n",
       "      <td>0.903509</td>\n",
       "      <td>0.903748</td>\n",
       "      <td>0.903509</td>\n",
       "      <td>0.902975</td>\n",
       "    </tr>\n",
       "    <tr>\n",
       "      <th>7</th>\n",
       "      <td>0.947368</td>\n",
       "      <td>0.947606</td>\n",
       "      <td>0.947368</td>\n",
       "      <td>0.947183</td>\n",
       "    </tr>\n",
       "    <tr>\n",
       "      <th>8</th>\n",
       "      <td>0.921053</td>\n",
       "      <td>0.920935</td>\n",
       "      <td>0.921053</td>\n",
       "      <td>0.920921</td>\n",
       "    </tr>\n",
       "    <tr>\n",
       "      <th>9</th>\n",
       "      <td>0.947368</td>\n",
       "      <td>0.947368</td>\n",
       "      <td>0.947368</td>\n",
       "      <td>0.947368</td>\n",
       "    </tr>\n",
       "  </tbody>\n",
       "</table>\n",
       "</div>"
      ],
      "text/plain": [
       "        Acc       Pre       Rec        F1\n",
       "0  0.938596  0.938929  0.938596  0.938689\n",
       "1  0.938596  0.938540  0.938596  0.938494\n",
       "2  0.912281  0.913292  0.912281  0.911603\n",
       "3  0.938596  0.938540  0.938596  0.938494\n",
       "4  0.929825  0.929926  0.929825  0.929578\n",
       "5  0.938596  0.939280  0.938596  0.938257\n",
       "6  0.903509  0.903748  0.903509  0.902975\n",
       "7  0.947368  0.947606  0.947368  0.947183\n",
       "8  0.921053  0.920935  0.921053  0.920921\n",
       "9  0.947368  0.947368  0.947368  0.947368"
      ]
     },
     "execution_count": 7,
     "metadata": {},
     "output_type": "execute_result"
    }
   ],
   "source": [
    "pd.DataFrame(res_rfc_neuroDAVIS,columns =['Acc','Pre','Rec','F1'])"
   ]
  },
  {
   "cell_type": "code",
   "execution_count": null,
   "id": "3ec46a59",
   "metadata": {},
   "outputs": [],
   "source": []
  }
 ],
 "metadata": {
  "kernelspec": {
   "display_name": "Python 3 (ipykernel)",
   "language": "python",
   "name": "python3"
  },
  "language_info": {
   "codemirror_mode": {
    "name": "ipython",
    "version": 3
   },
   "file_extension": ".py",
   "mimetype": "text/x-python",
   "name": "python",
   "nbconvert_exporter": "python",
   "pygments_lexer": "ipython3",
   "version": "3.10.6"
  }
 },
 "nbformat": 4,
 "nbformat_minor": 5
}
