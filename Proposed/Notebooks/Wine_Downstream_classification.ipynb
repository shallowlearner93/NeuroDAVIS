{
 "cells": [
  {
   "cell_type": "markdown",
   "id": "cd5be007",
   "metadata": {},
   "source": [
    "# Importing libraries"
   ]
  },
  {
   "cell_type": "code",
   "execution_count": 1,
   "id": "f6f17284",
   "metadata": {},
   "outputs": [],
   "source": [
    "import numpy as np\n",
    "import pandas as pd\n",
    "import matplotlib.pyplot as plt\n",
    "import Datasets as DS\n",
    "import NeuroDAVIS as nd\n",
    "import DownstreamAnalysis as DA\n",
    "from sklearn.metrics.pairwise import euclidean_distances"
   ]
  },
  {
   "cell_type": "markdown",
   "id": "c3c3904e",
   "metadata": {},
   "source": [
    "# Loading data"
   ]
  },
  {
   "cell_type": "code",
   "execution_count": 2,
   "id": "27867353",
   "metadata": {},
   "outputs": [],
   "source": [
    "X,y = DS.LoadData('Wine')"
   ]
  },
  {
   "cell_type": "code",
   "execution_count": 3,
   "id": "54e9c71d",
   "metadata": {},
   "outputs": [
    {
     "data": {
      "text/plain": [
       "(178, 13)"
      ]
     },
     "execution_count": 3,
     "metadata": {},
     "output_type": "execute_result"
    }
   ],
   "source": [
    "X.shape"
   ]
  },
  {
   "cell_type": "code",
   "execution_count": 4,
   "id": "757d603a",
   "metadata": {},
   "outputs": [],
   "source": [
    "y = y.reshape((y.shape[0],))"
   ]
  },
  {
   "cell_type": "markdown",
   "id": "e0394813",
   "metadata": {},
   "source": [
    "# Applying NeuroDAVIS"
   ]
  },
  {
   "cell_type": "code",
   "execution_count": 5,
   "id": "fdfa0072",
   "metadata": {
    "scrolled": true
   },
   "outputs": [
    {
     "name": "stdout",
     "output_type": "stream",
     "text": [
      "Iteration 1\n",
      "Iteration 2\n",
      "Iteration 3\n",
      "Iteration 4\n",
      "Iteration 5\n",
      "Iteration 6\n",
      "Iteration 7\n",
      "Iteration 8\n",
      "Iteration 9\n",
      "Iteration 10\n"
     ]
    }
   ],
   "source": [
    "iteration = 10\n",
    "data = np.eye(X.shape[0])\n",
    "res_knn_neuroDAVIS = []\n",
    "res_rfc_neuroDAVIS = []\n",
    "for i in range(iteration):\n",
    "    print(\"Iteration {}\".format(i+1))\n",
    "    neuroDAVIS, Low = nd.NeuroDAVIS(data, X, dim=2, lambda_act=0.0001, lambda_weight=0.001, num_neuron=[50,20], bs=16, epoch=1000, sd=0, verbose=0)\n",
    "    X_embedding = Low.predict(data)\n",
    "    res_knn_neuroDAVIS.append(DA.Knn(X_embedding, y, 5))\n",
    "    res_rfc_neuroDAVIS.append(DA.RFC(X_embedding, y))"
   ]
  },
  {
   "cell_type": "code",
   "execution_count": 6,
   "id": "b5de3e3b",
   "metadata": {},
   "outputs": [
    {
     "data": {
      "text/html": [
       "<div>\n",
       "<style scoped>\n",
       "    .dataframe tbody tr th:only-of-type {\n",
       "        vertical-align: middle;\n",
       "    }\n",
       "\n",
       "    .dataframe tbody tr th {\n",
       "        vertical-align: top;\n",
       "    }\n",
       "\n",
       "    .dataframe thead th {\n",
       "        text-align: right;\n",
       "    }\n",
       "</style>\n",
       "<table border=\"1\" class=\"dataframe\">\n",
       "  <thead>\n",
       "    <tr style=\"text-align: right;\">\n",
       "      <th></th>\n",
       "      <th>Acc</th>\n",
       "      <th>Pre</th>\n",
       "      <th>Rec</th>\n",
       "      <th>F1</th>\n",
       "    </tr>\n",
       "  </thead>\n",
       "  <tbody>\n",
       "    <tr>\n",
       "      <th>0</th>\n",
       "      <td>0.777778</td>\n",
       "      <td>0.801531</td>\n",
       "      <td>0.777778</td>\n",
       "      <td>0.784072</td>\n",
       "    </tr>\n",
       "    <tr>\n",
       "      <th>1</th>\n",
       "      <td>0.777778</td>\n",
       "      <td>0.774074</td>\n",
       "      <td>0.777778</td>\n",
       "      <td>0.775121</td>\n",
       "    </tr>\n",
       "    <tr>\n",
       "      <th>2</th>\n",
       "      <td>0.750000</td>\n",
       "      <td>0.788889</td>\n",
       "      <td>0.750000</td>\n",
       "      <td>0.759606</td>\n",
       "    </tr>\n",
       "    <tr>\n",
       "      <th>3</th>\n",
       "      <td>0.694444</td>\n",
       "      <td>0.690741</td>\n",
       "      <td>0.694444</td>\n",
       "      <td>0.691849</td>\n",
       "    </tr>\n",
       "    <tr>\n",
       "      <th>4</th>\n",
       "      <td>0.777778</td>\n",
       "      <td>0.800595</td>\n",
       "      <td>0.777778</td>\n",
       "      <td>0.786243</td>\n",
       "    </tr>\n",
       "    <tr>\n",
       "      <th>5</th>\n",
       "      <td>0.750000</td>\n",
       "      <td>0.788889</td>\n",
       "      <td>0.750000</td>\n",
       "      <td>0.759606</td>\n",
       "    </tr>\n",
       "    <tr>\n",
       "      <th>6</th>\n",
       "      <td>0.805556</td>\n",
       "      <td>0.839031</td>\n",
       "      <td>0.805556</td>\n",
       "      <td>0.814943</td>\n",
       "    </tr>\n",
       "    <tr>\n",
       "      <th>7</th>\n",
       "      <td>0.750000</td>\n",
       "      <td>0.788889</td>\n",
       "      <td>0.750000</td>\n",
       "      <td>0.759606</td>\n",
       "    </tr>\n",
       "    <tr>\n",
       "      <th>8</th>\n",
       "      <td>0.666667</td>\n",
       "      <td>0.712251</td>\n",
       "      <td>0.666667</td>\n",
       "      <td>0.684291</td>\n",
       "    </tr>\n",
       "    <tr>\n",
       "      <th>9</th>\n",
       "      <td>0.805556</td>\n",
       "      <td>0.790741</td>\n",
       "      <td>0.805556</td>\n",
       "      <td>0.797196</td>\n",
       "    </tr>\n",
       "  </tbody>\n",
       "</table>\n",
       "</div>"
      ],
      "text/plain": [
       "        Acc       Pre       Rec        F1\n",
       "0  0.777778  0.801531  0.777778  0.784072\n",
       "1  0.777778  0.774074  0.777778  0.775121\n",
       "2  0.750000  0.788889  0.750000  0.759606\n",
       "3  0.694444  0.690741  0.694444  0.691849\n",
       "4  0.777778  0.800595  0.777778  0.786243\n",
       "5  0.750000  0.788889  0.750000  0.759606\n",
       "6  0.805556  0.839031  0.805556  0.814943\n",
       "7  0.750000  0.788889  0.750000  0.759606\n",
       "8  0.666667  0.712251  0.666667  0.684291\n",
       "9  0.805556  0.790741  0.805556  0.797196"
      ]
     },
     "execution_count": 6,
     "metadata": {},
     "output_type": "execute_result"
    }
   ],
   "source": [
    "pd.DataFrame(res_knn_neuroDAVIS,columns =['Acc','Pre','Rec','F1'])"
   ]
  },
  {
   "cell_type": "code",
   "execution_count": 7,
   "id": "7546735a",
   "metadata": {},
   "outputs": [
    {
     "data": {
      "text/html": [
       "<div>\n",
       "<style scoped>\n",
       "    .dataframe tbody tr th:only-of-type {\n",
       "        vertical-align: middle;\n",
       "    }\n",
       "\n",
       "    .dataframe tbody tr th {\n",
       "        vertical-align: top;\n",
       "    }\n",
       "\n",
       "    .dataframe thead th {\n",
       "        text-align: right;\n",
       "    }\n",
       "</style>\n",
       "<table border=\"1\" class=\"dataframe\">\n",
       "  <thead>\n",
       "    <tr style=\"text-align: right;\">\n",
       "      <th></th>\n",
       "      <th>Acc</th>\n",
       "      <th>Pre</th>\n",
       "      <th>Rec</th>\n",
       "      <th>F1</th>\n",
       "    </tr>\n",
       "  </thead>\n",
       "  <tbody>\n",
       "    <tr>\n",
       "      <th>0</th>\n",
       "      <td>0.805556</td>\n",
       "      <td>0.843915</td>\n",
       "      <td>0.805556</td>\n",
       "      <td>0.818930</td>\n",
       "    </tr>\n",
       "    <tr>\n",
       "      <th>1</th>\n",
       "      <td>0.805556</td>\n",
       "      <td>0.843915</td>\n",
       "      <td>0.805556</td>\n",
       "      <td>0.818930</td>\n",
       "    </tr>\n",
       "    <tr>\n",
       "      <th>2</th>\n",
       "      <td>0.750000</td>\n",
       "      <td>0.786325</td>\n",
       "      <td>0.750000</td>\n",
       "      <td>0.762069</td>\n",
       "    </tr>\n",
       "    <tr>\n",
       "      <th>3</th>\n",
       "      <td>0.805556</td>\n",
       "      <td>0.799708</td>\n",
       "      <td>0.805556</td>\n",
       "      <td>0.796708</td>\n",
       "    </tr>\n",
       "    <tr>\n",
       "      <th>4</th>\n",
       "      <td>0.805556</td>\n",
       "      <td>0.812092</td>\n",
       "      <td>0.805556</td>\n",
       "      <td>0.807987</td>\n",
       "    </tr>\n",
       "    <tr>\n",
       "      <th>5</th>\n",
       "      <td>0.722222</td>\n",
       "      <td>0.780769</td>\n",
       "      <td>0.722222</td>\n",
       "      <td>0.743499</td>\n",
       "    </tr>\n",
       "    <tr>\n",
       "      <th>6</th>\n",
       "      <td>0.777778</td>\n",
       "      <td>0.800595</td>\n",
       "      <td>0.777778</td>\n",
       "      <td>0.786243</td>\n",
       "    </tr>\n",
       "    <tr>\n",
       "      <th>7</th>\n",
       "      <td>0.750000</td>\n",
       "      <td>0.762434</td>\n",
       "      <td>0.750000</td>\n",
       "      <td>0.755583</td>\n",
       "    </tr>\n",
       "    <tr>\n",
       "      <th>8</th>\n",
       "      <td>0.694444</td>\n",
       "      <td>0.731481</td>\n",
       "      <td>0.694444</td>\n",
       "      <td>0.710012</td>\n",
       "    </tr>\n",
       "    <tr>\n",
       "      <th>9</th>\n",
       "      <td>0.777778</td>\n",
       "      <td>0.825926</td>\n",
       "      <td>0.777778</td>\n",
       "      <td>0.789683</td>\n",
       "    </tr>\n",
       "  </tbody>\n",
       "</table>\n",
       "</div>"
      ],
      "text/plain": [
       "        Acc       Pre       Rec        F1\n",
       "0  0.805556  0.843915  0.805556  0.818930\n",
       "1  0.805556  0.843915  0.805556  0.818930\n",
       "2  0.750000  0.786325  0.750000  0.762069\n",
       "3  0.805556  0.799708  0.805556  0.796708\n",
       "4  0.805556  0.812092  0.805556  0.807987\n",
       "5  0.722222  0.780769  0.722222  0.743499\n",
       "6  0.777778  0.800595  0.777778  0.786243\n",
       "7  0.750000  0.762434  0.750000  0.755583\n",
       "8  0.694444  0.731481  0.694444  0.710012\n",
       "9  0.777778  0.825926  0.777778  0.789683"
      ]
     },
     "execution_count": 7,
     "metadata": {},
     "output_type": "execute_result"
    }
   ],
   "source": [
    "pd.DataFrame(res_rfc_neuroDAVIS,columns =['Acc','Pre','Rec','F1'])"
   ]
  },
  {
   "cell_type": "code",
   "execution_count": null,
   "id": "de75c622",
   "metadata": {},
   "outputs": [],
   "source": []
  }
 ],
 "metadata": {
  "kernelspec": {
   "display_name": "Python 3 (ipykernel)",
   "language": "python",
   "name": "python3"
  },
  "language_info": {
   "codemirror_mode": {
    "name": "ipython",
    "version": 3
   },
   "file_extension": ".py",
   "mimetype": "text/x-python",
   "name": "python",
   "nbconvert_exporter": "python",
   "pygments_lexer": "ipython3",
   "version": "3.10.6"
  }
 },
 "nbformat": 4,
 "nbformat_minor": 5
}
