{
 "cells": [
  {
   "cell_type": "markdown",
   "id": "cd5be007",
   "metadata": {},
   "source": [
    "# Importing libraries"
   ]
  },
  {
   "cell_type": "code",
   "execution_count": 1,
   "id": "f6f17284",
   "metadata": {},
   "outputs": [],
   "source": [
    "import numpy as np\n",
    "import pandas as pd\n",
    "import matplotlib.pyplot as plt\n",
    "import Datasets as DS\n",
    "import NeuroDAVIS as nd\n",
    "import DownstreamAnalysis as DA\n",
    "from sklearn.metrics.pairwise import euclidean_distances"
   ]
  },
  {
   "cell_type": "markdown",
   "id": "c3c3904e",
   "metadata": {},
   "source": [
    "# Loading data"
   ]
  },
  {
   "cell_type": "code",
   "execution_count": 2,
   "id": "27867353",
   "metadata": {},
   "outputs": [],
   "source": [
    "X,y = DS.LoadData('Coil20')"
   ]
  },
  {
   "cell_type": "code",
   "execution_count": 3,
   "id": "54e9c71d",
   "metadata": {},
   "outputs": [
    {
     "data": {
      "text/plain": [
       "(1440, 16385)"
      ]
     },
     "execution_count": 3,
     "metadata": {},
     "output_type": "execute_result"
    }
   ],
   "source": [
    "X.shape"
   ]
  },
  {
   "cell_type": "code",
   "execution_count": 4,
   "id": "757d603a",
   "metadata": {},
   "outputs": [],
   "source": [
    "y = y.reshape((y.shape[0],))"
   ]
  },
  {
   "cell_type": "markdown",
   "id": "e0394813",
   "metadata": {},
   "source": [
    "# Applying NeuroDAVIS"
   ]
  },
  {
   "cell_type": "code",
   "execution_count": 5,
   "id": "fdfa0072",
   "metadata": {
    "scrolled": true
   },
   "outputs": [
    {
     "name": "stdout",
     "output_type": "stream",
     "text": [
      "Iteration 1\n",
      "Iteration 2\n",
      "Iteration 3\n",
      "Iteration 4\n",
      "Iteration 5\n",
      "Iteration 6\n",
      "Iteration 7\n",
      "Iteration 8\n",
      "Iteration 9\n",
      "Iteration 10\n"
     ]
    }
   ],
   "source": [
    "iteration = 10\n",
    "data = np.eye(X.shape[0])\n",
    "res_knn_neuroDAVIS = []\n",
    "res_rfc_neuroDAVIS = []\n",
    "for i in range(iteration):\n",
    "    print(\"Iteration {}\".format(i+1))\n",
    "    neuroDAVIS, Low = nd.NeuroDAVIS(data, X, dim=2, lambda_act=0, lambda_weight=0, num_neuron=[100,400], bs=256, epoch=1500, sd=0, verbose=0)\n",
    "    X_embedding = Low.predict(data)\n",
    "    res_knn_neuroDAVIS.append(DA.Knn(X_embedding, y, 5))\n",
    "    res_rfc_neuroDAVIS.append(DA.RFC(X_embedding, y))"
   ]
  },
  {
   "cell_type": "code",
   "execution_count": 6,
   "id": "b5de3e3b",
   "metadata": {},
   "outputs": [
    {
     "data": {
      "text/html": [
       "<div>\n",
       "<style scoped>\n",
       "    .dataframe tbody tr th:only-of-type {\n",
       "        vertical-align: middle;\n",
       "    }\n",
       "\n",
       "    .dataframe tbody tr th {\n",
       "        vertical-align: top;\n",
       "    }\n",
       "\n",
       "    .dataframe thead th {\n",
       "        text-align: right;\n",
       "    }\n",
       "</style>\n",
       "<table border=\"1\" class=\"dataframe\">\n",
       "  <thead>\n",
       "    <tr style=\"text-align: right;\">\n",
       "      <th></th>\n",
       "      <th>Acc</th>\n",
       "      <th>Pre</th>\n",
       "      <th>Rec</th>\n",
       "      <th>F1</th>\n",
       "    </tr>\n",
       "  </thead>\n",
       "  <tbody>\n",
       "    <tr>\n",
       "      <th>0</th>\n",
       "      <td>0.906250</td>\n",
       "      <td>0.910459</td>\n",
       "      <td>0.906250</td>\n",
       "      <td>0.905254</td>\n",
       "    </tr>\n",
       "    <tr>\n",
       "      <th>1</th>\n",
       "      <td>0.958333</td>\n",
       "      <td>0.957413</td>\n",
       "      <td>0.958333</td>\n",
       "      <td>0.955788</td>\n",
       "    </tr>\n",
       "    <tr>\n",
       "      <th>2</th>\n",
       "      <td>0.923611</td>\n",
       "      <td>0.928552</td>\n",
       "      <td>0.923611</td>\n",
       "      <td>0.921756</td>\n",
       "    </tr>\n",
       "    <tr>\n",
       "      <th>3</th>\n",
       "      <td>0.937500</td>\n",
       "      <td>0.938890</td>\n",
       "      <td>0.937500</td>\n",
       "      <td>0.936186</td>\n",
       "    </tr>\n",
       "    <tr>\n",
       "      <th>4</th>\n",
       "      <td>0.923611</td>\n",
       "      <td>0.934853</td>\n",
       "      <td>0.923611</td>\n",
       "      <td>0.923463</td>\n",
       "    </tr>\n",
       "    <tr>\n",
       "      <th>5</th>\n",
       "      <td>0.937500</td>\n",
       "      <td>0.940345</td>\n",
       "      <td>0.937500</td>\n",
       "      <td>0.935830</td>\n",
       "    </tr>\n",
       "    <tr>\n",
       "      <th>6</th>\n",
       "      <td>0.920139</td>\n",
       "      <td>0.940909</td>\n",
       "      <td>0.920139</td>\n",
       "      <td>0.919922</td>\n",
       "    </tr>\n",
       "    <tr>\n",
       "      <th>7</th>\n",
       "      <td>0.916667</td>\n",
       "      <td>0.926687</td>\n",
       "      <td>0.916667</td>\n",
       "      <td>0.916175</td>\n",
       "    </tr>\n",
       "    <tr>\n",
       "      <th>8</th>\n",
       "      <td>0.927083</td>\n",
       "      <td>0.930680</td>\n",
       "      <td>0.927083</td>\n",
       "      <td>0.925689</td>\n",
       "    </tr>\n",
       "    <tr>\n",
       "      <th>9</th>\n",
       "      <td>0.940972</td>\n",
       "      <td>0.944922</td>\n",
       "      <td>0.940972</td>\n",
       "      <td>0.938543</td>\n",
       "    </tr>\n",
       "  </tbody>\n",
       "</table>\n",
       "</div>"
      ],
      "text/plain": [
       "        Acc       Pre       Rec        F1\n",
       "0  0.906250  0.910459  0.906250  0.905254\n",
       "1  0.958333  0.957413  0.958333  0.955788\n",
       "2  0.923611  0.928552  0.923611  0.921756\n",
       "3  0.937500  0.938890  0.937500  0.936186\n",
       "4  0.923611  0.934853  0.923611  0.923463\n",
       "5  0.937500  0.940345  0.937500  0.935830\n",
       "6  0.920139  0.940909  0.920139  0.919922\n",
       "7  0.916667  0.926687  0.916667  0.916175\n",
       "8  0.927083  0.930680  0.927083  0.925689\n",
       "9  0.940972  0.944922  0.940972  0.938543"
      ]
     },
     "execution_count": 6,
     "metadata": {},
     "output_type": "execute_result"
    }
   ],
   "source": [
    "pd.DataFrame(res_knn_neuroDAVIS,columns =['Acc','Pre','Rec','F1'])"
   ]
  },
  {
   "cell_type": "code",
   "execution_count": 7,
   "id": "7546735a",
   "metadata": {},
   "outputs": [
    {
     "data": {
      "text/html": [
       "<div>\n",
       "<style scoped>\n",
       "    .dataframe tbody tr th:only-of-type {\n",
       "        vertical-align: middle;\n",
       "    }\n",
       "\n",
       "    .dataframe tbody tr th {\n",
       "        vertical-align: top;\n",
       "    }\n",
       "\n",
       "    .dataframe thead th {\n",
       "        text-align: right;\n",
       "    }\n",
       "</style>\n",
       "<table border=\"1\" class=\"dataframe\">\n",
       "  <thead>\n",
       "    <tr style=\"text-align: right;\">\n",
       "      <th></th>\n",
       "      <th>Acc</th>\n",
       "      <th>Pre</th>\n",
       "      <th>Rec</th>\n",
       "      <th>F1</th>\n",
       "    </tr>\n",
       "  </thead>\n",
       "  <tbody>\n",
       "    <tr>\n",
       "      <th>0</th>\n",
       "      <td>0.930556</td>\n",
       "      <td>0.937422</td>\n",
       "      <td>0.930556</td>\n",
       "      <td>0.931756</td>\n",
       "    </tr>\n",
       "    <tr>\n",
       "      <th>1</th>\n",
       "      <td>0.958333</td>\n",
       "      <td>0.959802</td>\n",
       "      <td>0.958333</td>\n",
       "      <td>0.957645</td>\n",
       "    </tr>\n",
       "    <tr>\n",
       "      <th>2</th>\n",
       "      <td>0.920139</td>\n",
       "      <td>0.923439</td>\n",
       "      <td>0.920139</td>\n",
       "      <td>0.919368</td>\n",
       "    </tr>\n",
       "    <tr>\n",
       "      <th>3</th>\n",
       "      <td>0.947917</td>\n",
       "      <td>0.953807</td>\n",
       "      <td>0.947917</td>\n",
       "      <td>0.948110</td>\n",
       "    </tr>\n",
       "    <tr>\n",
       "      <th>4</th>\n",
       "      <td>0.940972</td>\n",
       "      <td>0.947425</td>\n",
       "      <td>0.940972</td>\n",
       "      <td>0.939685</td>\n",
       "    </tr>\n",
       "    <tr>\n",
       "      <th>5</th>\n",
       "      <td>0.947917</td>\n",
       "      <td>0.951656</td>\n",
       "      <td>0.947917</td>\n",
       "      <td>0.947181</td>\n",
       "    </tr>\n",
       "    <tr>\n",
       "      <th>6</th>\n",
       "      <td>0.930556</td>\n",
       "      <td>0.934702</td>\n",
       "      <td>0.930556</td>\n",
       "      <td>0.929432</td>\n",
       "    </tr>\n",
       "    <tr>\n",
       "      <th>7</th>\n",
       "      <td>0.937500</td>\n",
       "      <td>0.940861</td>\n",
       "      <td>0.937500</td>\n",
       "      <td>0.937132</td>\n",
       "    </tr>\n",
       "    <tr>\n",
       "      <th>8</th>\n",
       "      <td>0.927083</td>\n",
       "      <td>0.927624</td>\n",
       "      <td>0.927083</td>\n",
       "      <td>0.924406</td>\n",
       "    </tr>\n",
       "    <tr>\n",
       "      <th>9</th>\n",
       "      <td>0.944444</td>\n",
       "      <td>0.945617</td>\n",
       "      <td>0.944444</td>\n",
       "      <td>0.943942</td>\n",
       "    </tr>\n",
       "  </tbody>\n",
       "</table>\n",
       "</div>"
      ],
      "text/plain": [
       "        Acc       Pre       Rec        F1\n",
       "0  0.930556  0.937422  0.930556  0.931756\n",
       "1  0.958333  0.959802  0.958333  0.957645\n",
       "2  0.920139  0.923439  0.920139  0.919368\n",
       "3  0.947917  0.953807  0.947917  0.948110\n",
       "4  0.940972  0.947425  0.940972  0.939685\n",
       "5  0.947917  0.951656  0.947917  0.947181\n",
       "6  0.930556  0.934702  0.930556  0.929432\n",
       "7  0.937500  0.940861  0.937500  0.937132\n",
       "8  0.927083  0.927624  0.927083  0.924406\n",
       "9  0.944444  0.945617  0.944444  0.943942"
      ]
     },
     "execution_count": 7,
     "metadata": {},
     "output_type": "execute_result"
    }
   ],
   "source": [
    "pd.DataFrame(res_rfc_neuroDAVIS,columns =['Acc','Pre','Rec','F1'])"
   ]
  },
  {
   "cell_type": "code",
   "execution_count": null,
   "id": "f9548ce9",
   "metadata": {},
   "outputs": [],
   "source": []
  }
 ],
 "metadata": {
  "kernelspec": {
   "display_name": "Python 3 (ipykernel)",
   "language": "python",
   "name": "python3"
  },
  "language_info": {
   "codemirror_mode": {
    "name": "ipython",
    "version": 3
   },
   "file_extension": ".py",
   "mimetype": "text/x-python",
   "name": "python",
   "nbconvert_exporter": "python",
   "pygments_lexer": "ipython3",
   "version": "3.10.6"
  }
 },
 "nbformat": 4,
 "nbformat_minor": 5
}
