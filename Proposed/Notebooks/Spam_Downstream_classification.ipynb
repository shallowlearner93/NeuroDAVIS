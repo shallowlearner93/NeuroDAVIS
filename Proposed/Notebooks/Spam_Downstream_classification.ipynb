{
 "cells": [
  {
   "cell_type": "markdown",
   "id": "cd5be007",
   "metadata": {},
   "source": [
    "# Importing libraries"
   ]
  },
  {
   "cell_type": "code",
   "execution_count": 1,
   "id": "f6f17284",
   "metadata": {},
   "outputs": [],
   "source": [
    "import numpy as np\n",
    "import pandas as pd\n",
    "import matplotlib.pyplot as plt\n",
    "import Datasets as DS\n",
    "import NeuroDAVIS as nd\n",
    "import DownstreamAnalysis as DA\n",
    "from sklearn.metrics.pairwise import euclidean_distances"
   ]
  },
  {
   "cell_type": "markdown",
   "id": "c3c3904e",
   "metadata": {},
   "source": [
    "# Loading data"
   ]
  },
  {
   "cell_type": "code",
   "execution_count": 2,
   "id": "27867353",
   "metadata": {},
   "outputs": [],
   "source": [
    "X,y = DS.LoadData('Spam')"
   ]
  },
  {
   "cell_type": "code",
   "execution_count": 3,
   "id": "54e9c71d",
   "metadata": {},
   "outputs": [
    {
     "data": {
      "text/plain": [
       "(5572, 513)"
      ]
     },
     "execution_count": 3,
     "metadata": {},
     "output_type": "execute_result"
    }
   ],
   "source": [
    "X.shape"
   ]
  },
  {
   "cell_type": "code",
   "execution_count": 4,
   "id": "757d603a",
   "metadata": {},
   "outputs": [],
   "source": [
    "y = y.reshape((y.shape[0],))"
   ]
  },
  {
   "cell_type": "markdown",
   "id": "e0394813",
   "metadata": {},
   "source": [
    "# Applying NeuroDAVIS"
   ]
  },
  {
   "cell_type": "code",
   "execution_count": 5,
   "id": "fdfa0072",
   "metadata": {
    "scrolled": true
   },
   "outputs": [
    {
     "name": "stdout",
     "output_type": "stream",
     "text": [
      "Iteration 1\n",
      "Iteration 2\n",
      "Iteration 3\n",
      "Iteration 4\n",
      "Iteration 5\n",
      "Iteration 6\n",
      "Iteration 7\n",
      "Iteration 8\n",
      "Iteration 9\n",
      "Iteration 10\n"
     ]
    }
   ],
   "source": [
    "iteration = 10\n",
    "data = np.eye(X.shape[0])\n",
    "res_knn_neuroDAVIS = []\n",
    "res_rfc_neuroDAVIS = []\n",
    "for i in range(iteration):\n",
    "    print(\"Iteration {}\".format(i+1))\n",
    "    neuroDAVIS, Low = nd.NeuroDAVIS(data, X, dim=2, lambda_act=0, lambda_weight=0.00001, num_neuron=[100,400], bs=512, epoch=1000, sd=0, verbose=0)\n",
    "    X_embedding = Low.predict(data)\n",
    "    res_knn_neuroDAVIS.append(DA.Knn(X_embedding, y, 5))\n",
    "    res_rfc_neuroDAVIS.append(DA.RFC(X_embedding, y))"
   ]
  },
  {
   "cell_type": "code",
   "execution_count": 6,
   "id": "b5de3e3b",
   "metadata": {},
   "outputs": [
    {
     "data": {
      "text/html": [
       "<div>\n",
       "<style scoped>\n",
       "    .dataframe tbody tr th:only-of-type {\n",
       "        vertical-align: middle;\n",
       "    }\n",
       "\n",
       "    .dataframe tbody tr th {\n",
       "        vertical-align: top;\n",
       "    }\n",
       "\n",
       "    .dataframe thead th {\n",
       "        text-align: right;\n",
       "    }\n",
       "</style>\n",
       "<table border=\"1\" class=\"dataframe\">\n",
       "  <thead>\n",
       "    <tr style=\"text-align: right;\">\n",
       "      <th></th>\n",
       "      <th>Acc</th>\n",
       "      <th>Pre</th>\n",
       "      <th>Rec</th>\n",
       "      <th>F1</th>\n",
       "    </tr>\n",
       "  </thead>\n",
       "  <tbody>\n",
       "    <tr>\n",
       "      <th>0</th>\n",
       "      <td>0.868161</td>\n",
       "      <td>0.857574</td>\n",
       "      <td>0.868161</td>\n",
       "      <td>0.861701</td>\n",
       "    </tr>\n",
       "    <tr>\n",
       "      <th>1</th>\n",
       "      <td>0.848430</td>\n",
       "      <td>0.833301</td>\n",
       "      <td>0.848430</td>\n",
       "      <td>0.839429</td>\n",
       "    </tr>\n",
       "    <tr>\n",
       "      <th>2</th>\n",
       "      <td>0.857399</td>\n",
       "      <td>0.843539</td>\n",
       "      <td>0.857399</td>\n",
       "      <td>0.848930</td>\n",
       "    </tr>\n",
       "    <tr>\n",
       "      <th>3</th>\n",
       "      <td>0.866368</td>\n",
       "      <td>0.848740</td>\n",
       "      <td>0.866368</td>\n",
       "      <td>0.853823</td>\n",
       "    </tr>\n",
       "    <tr>\n",
       "      <th>4</th>\n",
       "      <td>0.845740</td>\n",
       "      <td>0.820930</td>\n",
       "      <td>0.845740</td>\n",
       "      <td>0.829630</td>\n",
       "    </tr>\n",
       "    <tr>\n",
       "      <th>5</th>\n",
       "      <td>0.858296</td>\n",
       "      <td>0.846933</td>\n",
       "      <td>0.858296</td>\n",
       "      <td>0.851591</td>\n",
       "    </tr>\n",
       "    <tr>\n",
       "      <th>6</th>\n",
       "      <td>0.858296</td>\n",
       "      <td>0.840272</td>\n",
       "      <td>0.858296</td>\n",
       "      <td>0.846426</td>\n",
       "    </tr>\n",
       "    <tr>\n",
       "      <th>7</th>\n",
       "      <td>0.864574</td>\n",
       "      <td>0.852341</td>\n",
       "      <td>0.864574</td>\n",
       "      <td>0.857008</td>\n",
       "    </tr>\n",
       "    <tr>\n",
       "      <th>8</th>\n",
       "      <td>0.851121</td>\n",
       "      <td>0.836001</td>\n",
       "      <td>0.851121</td>\n",
       "      <td>0.842014</td>\n",
       "    </tr>\n",
       "    <tr>\n",
       "      <th>9</th>\n",
       "      <td>0.846637</td>\n",
       "      <td>0.830465</td>\n",
       "      <td>0.846637</td>\n",
       "      <td>0.836980</td>\n",
       "    </tr>\n",
       "  </tbody>\n",
       "</table>\n",
       "</div>"
      ],
      "text/plain": [
       "        Acc       Pre       Rec        F1\n",
       "0  0.868161  0.857574  0.868161  0.861701\n",
       "1  0.848430  0.833301  0.848430  0.839429\n",
       "2  0.857399  0.843539  0.857399  0.848930\n",
       "3  0.866368  0.848740  0.866368  0.853823\n",
       "4  0.845740  0.820930  0.845740  0.829630\n",
       "5  0.858296  0.846933  0.858296  0.851591\n",
       "6  0.858296  0.840272  0.858296  0.846426\n",
       "7  0.864574  0.852341  0.864574  0.857008\n",
       "8  0.851121  0.836001  0.851121  0.842014\n",
       "9  0.846637  0.830465  0.846637  0.836980"
      ]
     },
     "execution_count": 6,
     "metadata": {},
     "output_type": "execute_result"
    }
   ],
   "source": [
    "pd.DataFrame(res_knn_neuroDAVIS,columns =['Acc','Pre','Rec','F1'])"
   ]
  },
  {
   "cell_type": "code",
   "execution_count": 7,
   "id": "7546735a",
   "metadata": {},
   "outputs": [
    {
     "data": {
      "text/html": [
       "<div>\n",
       "<style scoped>\n",
       "    .dataframe tbody tr th:only-of-type {\n",
       "        vertical-align: middle;\n",
       "    }\n",
       "\n",
       "    .dataframe tbody tr th {\n",
       "        vertical-align: top;\n",
       "    }\n",
       "\n",
       "    .dataframe thead th {\n",
       "        text-align: right;\n",
       "    }\n",
       "</style>\n",
       "<table border=\"1\" class=\"dataframe\">\n",
       "  <thead>\n",
       "    <tr style=\"text-align: right;\">\n",
       "      <th></th>\n",
       "      <th>Acc</th>\n",
       "      <th>Pre</th>\n",
       "      <th>Rec</th>\n",
       "      <th>F1</th>\n",
       "    </tr>\n",
       "  </thead>\n",
       "  <tbody>\n",
       "    <tr>\n",
       "      <th>0</th>\n",
       "      <td>0.862780</td>\n",
       "      <td>0.845425</td>\n",
       "      <td>0.862780</td>\n",
       "      <td>0.851014</td>\n",
       "    </tr>\n",
       "    <tr>\n",
       "      <th>1</th>\n",
       "      <td>0.856502</td>\n",
       "      <td>0.841484</td>\n",
       "      <td>0.856502</td>\n",
       "      <td>0.847206</td>\n",
       "    </tr>\n",
       "    <tr>\n",
       "      <th>2</th>\n",
       "      <td>0.845740</td>\n",
       "      <td>0.829831</td>\n",
       "      <td>0.845740</td>\n",
       "      <td>0.836303</td>\n",
       "    </tr>\n",
       "    <tr>\n",
       "      <th>3</th>\n",
       "      <td>0.873543</td>\n",
       "      <td>0.857698</td>\n",
       "      <td>0.873543</td>\n",
       "      <td>0.861671</td>\n",
       "    </tr>\n",
       "    <tr>\n",
       "      <th>4</th>\n",
       "      <td>0.843946</td>\n",
       "      <td>0.818623</td>\n",
       "      <td>0.843946</td>\n",
       "      <td>0.827649</td>\n",
       "    </tr>\n",
       "    <tr>\n",
       "      <th>5</th>\n",
       "      <td>0.856502</td>\n",
       "      <td>0.845644</td>\n",
       "      <td>0.856502</td>\n",
       "      <td>0.850189</td>\n",
       "    </tr>\n",
       "    <tr>\n",
       "      <th>6</th>\n",
       "      <td>0.866368</td>\n",
       "      <td>0.852608</td>\n",
       "      <td>0.866368</td>\n",
       "      <td>0.857467</td>\n",
       "    </tr>\n",
       "    <tr>\n",
       "      <th>7</th>\n",
       "      <td>0.866368</td>\n",
       "      <td>0.852608</td>\n",
       "      <td>0.866368</td>\n",
       "      <td>0.857467</td>\n",
       "    </tr>\n",
       "    <tr>\n",
       "      <th>8</th>\n",
       "      <td>0.865471</td>\n",
       "      <td>0.849550</td>\n",
       "      <td>0.865471</td>\n",
       "      <td>0.854730</td>\n",
       "    </tr>\n",
       "    <tr>\n",
       "      <th>9</th>\n",
       "      <td>0.845740</td>\n",
       "      <td>0.824207</td>\n",
       "      <td>0.845740</td>\n",
       "      <td>0.832203</td>\n",
       "    </tr>\n",
       "  </tbody>\n",
       "</table>\n",
       "</div>"
      ],
      "text/plain": [
       "        Acc       Pre       Rec        F1\n",
       "0  0.862780  0.845425  0.862780  0.851014\n",
       "1  0.856502  0.841484  0.856502  0.847206\n",
       "2  0.845740  0.829831  0.845740  0.836303\n",
       "3  0.873543  0.857698  0.873543  0.861671\n",
       "4  0.843946  0.818623  0.843946  0.827649\n",
       "5  0.856502  0.845644  0.856502  0.850189\n",
       "6  0.866368  0.852608  0.866368  0.857467\n",
       "7  0.866368  0.852608  0.866368  0.857467\n",
       "8  0.865471  0.849550  0.865471  0.854730\n",
       "9  0.845740  0.824207  0.845740  0.832203"
      ]
     },
     "execution_count": 7,
     "metadata": {},
     "output_type": "execute_result"
    }
   ],
   "source": [
    "pd.DataFrame(res_rfc_neuroDAVIS,columns =['Acc','Pre','Rec','F1'])"
   ]
  },
  {
   "cell_type": "code",
   "execution_count": null,
   "id": "138888c7",
   "metadata": {},
   "outputs": [],
   "source": []
  }
 ],
 "metadata": {
  "kernelspec": {
   "display_name": "Python 3 (ipykernel)",
   "language": "python",
   "name": "python3"
  },
  "language_info": {
   "codemirror_mode": {
    "name": "ipython",
    "version": 3
   },
   "file_extension": ".py",
   "mimetype": "text/x-python",
   "name": "python",
   "nbconvert_exporter": "python",
   "pygments_lexer": "ipython3",
   "version": "3.10.6"
  }
 },
 "nbformat": 4,
 "nbformat_minor": 5
}
