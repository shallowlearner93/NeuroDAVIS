{
 "cells": [
  {
   "cell_type": "markdown",
   "id": "cd5be007",
   "metadata": {},
   "source": [
    "# Importing libraries"
   ]
  },
  {
   "cell_type": "code",
   "execution_count": 1,
   "id": "f6f17284",
   "metadata": {},
   "outputs": [],
   "source": [
    "import numpy as np\n",
    "import pandas as pd\n",
    "import matplotlib.pyplot as plt\n",
    "import Datasets as DS\n",
    "import NeuroDAVIS as nd\n",
    "import DownstreamAnalysis as DA\n",
    "from sklearn.metrics.pairwise import euclidean_distances"
   ]
  },
  {
   "cell_type": "markdown",
   "id": "c3c3904e",
   "metadata": {},
   "source": [
    "# Loading data"
   ]
  },
  {
   "cell_type": "code",
   "execution_count": 2,
   "id": "27867353",
   "metadata": {},
   "outputs": [],
   "source": [
    "X,y = DS.LoadData('Usoskin')"
   ]
  },
  {
   "cell_type": "code",
   "execution_count": 3,
   "id": "54e9c71d",
   "metadata": {},
   "outputs": [
    {
     "data": {
      "text/plain": [
       "(621, 4184)"
      ]
     },
     "execution_count": 3,
     "metadata": {},
     "output_type": "execute_result"
    }
   ],
   "source": [
    "X.shape"
   ]
  },
  {
   "cell_type": "code",
   "execution_count": 4,
   "id": "757d603a",
   "metadata": {},
   "outputs": [],
   "source": [
    "y = y.reshape((y.shape[0],))"
   ]
  },
  {
   "cell_type": "markdown",
   "id": "e0394813",
   "metadata": {},
   "source": [
    "# Applying NeuroDAVIS"
   ]
  },
  {
   "cell_type": "code",
   "execution_count": 5,
   "id": "fdfa0072",
   "metadata": {
    "scrolled": true
   },
   "outputs": [
    {
     "name": "stdout",
     "output_type": "stream",
     "text": [
      "Iteration 1\n",
      "Iteration 2\n",
      "Iteration 3\n",
      "Iteration 4\n",
      "Iteration 5\n",
      "Iteration 6\n",
      "Iteration 7\n",
      "Iteration 8\n",
      "Iteration 9\n",
      "Iteration 10\n"
     ]
    }
   ],
   "source": [
    "iteration = 10\n",
    "data = np.eye(X.shape[0])\n",
    "res_kmeans_neuroDAVIS = []\n",
    "res_agglomerative_neuroDAVIS = []\n",
    "for i in range(iteration):\n",
    "    print(\"Iteration {}\".format(i+1))\n",
    "    neuroDAVIS, Low = nd.NeuroDAVIS(data, X, dim=2, lambda_act=0.000001, lambda_weight=0.00001, num_neuron=[100,200], bs=16, epoch=2000, sd=0, verbose=0)\n",
    "    X_embedding = Low.predict(data)\n",
    "    res_kmeans_neuroDAVIS.append(DA.kmeans(X_embedding, y))\n",
    "    res_agglomerative_neuroDAVIS.append(DA.Agglomerative(X_embedding, y))"
   ]
  },
  {
   "cell_type": "code",
   "execution_count": 8,
   "id": "b5de3e3b",
   "metadata": {},
   "outputs": [
    {
     "data": {
      "text/html": [
       "<div>\n",
       "<style scoped>\n",
       "    .dataframe tbody tr th:only-of-type {\n",
       "        vertical-align: middle;\n",
       "    }\n",
       "\n",
       "    .dataframe tbody tr th {\n",
       "        vertical-align: top;\n",
       "    }\n",
       "\n",
       "    .dataframe thead th {\n",
       "        text-align: right;\n",
       "    }\n",
       "</style>\n",
       "<table border=\"1\" class=\"dataframe\">\n",
       "  <thead>\n",
       "    <tr style=\"text-align: right;\">\n",
       "      <th></th>\n",
       "      <th>ARI</th>\n",
       "      <th>FMI</th>\n",
       "      <th>NMI</th>\n",
       "      <th>Silhouette_score</th>\n",
       "      <th>Davies_bouldin_score</th>\n",
       "    </tr>\n",
       "  </thead>\n",
       "  <tbody>\n",
       "    <tr>\n",
       "      <th>0</th>\n",
       "      <td>0.314205</td>\n",
       "      <td>0.387383</td>\n",
       "      <td>0.485137</td>\n",
       "      <td>0.389594</td>\n",
       "      <td>0.887386</td>\n",
       "    </tr>\n",
       "    <tr>\n",
       "      <th>1</th>\n",
       "      <td>0.323005</td>\n",
       "      <td>0.393120</td>\n",
       "      <td>0.518006</td>\n",
       "      <td>0.383015</td>\n",
       "      <td>0.898439</td>\n",
       "    </tr>\n",
       "    <tr>\n",
       "      <th>2</th>\n",
       "      <td>0.270650</td>\n",
       "      <td>0.345205</td>\n",
       "      <td>0.469728</td>\n",
       "      <td>0.352352</td>\n",
       "      <td>0.894041</td>\n",
       "    </tr>\n",
       "    <tr>\n",
       "      <th>3</th>\n",
       "      <td>0.235483</td>\n",
       "      <td>0.318013</td>\n",
       "      <td>0.429078</td>\n",
       "      <td>0.396780</td>\n",
       "      <td>0.853445</td>\n",
       "    </tr>\n",
       "    <tr>\n",
       "      <th>4</th>\n",
       "      <td>0.265520</td>\n",
       "      <td>0.335656</td>\n",
       "      <td>0.490599</td>\n",
       "      <td>0.400042</td>\n",
       "      <td>0.798679</td>\n",
       "    </tr>\n",
       "    <tr>\n",
       "      <th>5</th>\n",
       "      <td>0.232445</td>\n",
       "      <td>0.311592</td>\n",
       "      <td>0.418384</td>\n",
       "      <td>0.370967</td>\n",
       "      <td>0.945829</td>\n",
       "    </tr>\n",
       "    <tr>\n",
       "      <th>6</th>\n",
       "      <td>0.195717</td>\n",
       "      <td>0.281106</td>\n",
       "      <td>0.401388</td>\n",
       "      <td>0.376684</td>\n",
       "      <td>0.868362</td>\n",
       "    </tr>\n",
       "    <tr>\n",
       "      <th>7</th>\n",
       "      <td>0.272550</td>\n",
       "      <td>0.353451</td>\n",
       "      <td>0.452665</td>\n",
       "      <td>0.354272</td>\n",
       "      <td>0.896538</td>\n",
       "    </tr>\n",
       "    <tr>\n",
       "      <th>8</th>\n",
       "      <td>0.278098</td>\n",
       "      <td>0.355649</td>\n",
       "      <td>0.508496</td>\n",
       "      <td>0.392782</td>\n",
       "      <td>0.869906</td>\n",
       "    </tr>\n",
       "    <tr>\n",
       "      <th>9</th>\n",
       "      <td>0.209024</td>\n",
       "      <td>0.290471</td>\n",
       "      <td>0.438896</td>\n",
       "      <td>0.413126</td>\n",
       "      <td>0.811084</td>\n",
       "    </tr>\n",
       "  </tbody>\n",
       "</table>\n",
       "</div>"
      ],
      "text/plain": [
       "        ARI       FMI       NMI  Silhouette_score  Davies_bouldin_score\n",
       "0  0.314205  0.387383  0.485137          0.389594              0.887386\n",
       "1  0.323005  0.393120  0.518006          0.383015              0.898439\n",
       "2  0.270650  0.345205  0.469728          0.352352              0.894041\n",
       "3  0.235483  0.318013  0.429078          0.396780              0.853445\n",
       "4  0.265520  0.335656  0.490599          0.400042              0.798679\n",
       "5  0.232445  0.311592  0.418384          0.370967              0.945829\n",
       "6  0.195717  0.281106  0.401388          0.376684              0.868362\n",
       "7  0.272550  0.353451  0.452665          0.354272              0.896538\n",
       "8  0.278098  0.355649  0.508496          0.392782              0.869906\n",
       "9  0.209024  0.290471  0.438896          0.413126              0.811084"
      ]
     },
     "execution_count": 8,
     "metadata": {},
     "output_type": "execute_result"
    }
   ],
   "source": [
    "pd.DataFrame(res_kmeans_neuroDAVIS,columns =['ARI','FMI','NMI','Silhouette_score','Davies_bouldin_score'])"
   ]
  },
  {
   "cell_type": "code",
   "execution_count": 9,
   "id": "892cdc45",
   "metadata": {},
   "outputs": [
    {
     "data": {
      "text/html": [
       "<div>\n",
       "<style scoped>\n",
       "    .dataframe tbody tr th:only-of-type {\n",
       "        vertical-align: middle;\n",
       "    }\n",
       "\n",
       "    .dataframe tbody tr th {\n",
       "        vertical-align: top;\n",
       "    }\n",
       "\n",
       "    .dataframe thead th {\n",
       "        text-align: right;\n",
       "    }\n",
       "</style>\n",
       "<table border=\"1\" class=\"dataframe\">\n",
       "  <thead>\n",
       "    <tr style=\"text-align: right;\">\n",
       "      <th></th>\n",
       "      <th>ARI</th>\n",
       "      <th>FMI</th>\n",
       "      <th>NMI</th>\n",
       "      <th>Silhouette_score</th>\n",
       "      <th>Davies_bouldin_score</th>\n",
       "    </tr>\n",
       "  </thead>\n",
       "  <tbody>\n",
       "    <tr>\n",
       "      <th>0</th>\n",
       "      <td>0.347229</td>\n",
       "      <td>0.414885</td>\n",
       "      <td>0.526703</td>\n",
       "      <td>0.351040</td>\n",
       "      <td>0.840327</td>\n",
       "    </tr>\n",
       "    <tr>\n",
       "      <th>1</th>\n",
       "      <td>0.251709</td>\n",
       "      <td>0.340248</td>\n",
       "      <td>0.454255</td>\n",
       "      <td>0.408976</td>\n",
       "      <td>0.848396</td>\n",
       "    </tr>\n",
       "    <tr>\n",
       "      <th>2</th>\n",
       "      <td>0.297113</td>\n",
       "      <td>0.372700</td>\n",
       "      <td>0.492017</td>\n",
       "      <td>0.328217</td>\n",
       "      <td>0.911483</td>\n",
       "    </tr>\n",
       "    <tr>\n",
       "      <th>3</th>\n",
       "      <td>0.298408</td>\n",
       "      <td>0.373428</td>\n",
       "      <td>0.467351</td>\n",
       "      <td>0.364948</td>\n",
       "      <td>0.888432</td>\n",
       "    </tr>\n",
       "    <tr>\n",
       "      <th>4</th>\n",
       "      <td>0.252838</td>\n",
       "      <td>0.328184</td>\n",
       "      <td>0.466559</td>\n",
       "      <td>0.357730</td>\n",
       "      <td>0.854059</td>\n",
       "    </tr>\n",
       "    <tr>\n",
       "      <th>5</th>\n",
       "      <td>0.206350</td>\n",
       "      <td>0.293924</td>\n",
       "      <td>0.411874</td>\n",
       "      <td>0.353017</td>\n",
       "      <td>0.893596</td>\n",
       "    </tr>\n",
       "    <tr>\n",
       "      <th>6</th>\n",
       "      <td>0.218387</td>\n",
       "      <td>0.299364</td>\n",
       "      <td>0.432462</td>\n",
       "      <td>0.340082</td>\n",
       "      <td>0.927384</td>\n",
       "    </tr>\n",
       "    <tr>\n",
       "      <th>7</th>\n",
       "      <td>0.223848</td>\n",
       "      <td>0.305539</td>\n",
       "      <td>0.443163</td>\n",
       "      <td>0.300323</td>\n",
       "      <td>0.940935</td>\n",
       "    </tr>\n",
       "    <tr>\n",
       "      <th>8</th>\n",
       "      <td>0.276647</td>\n",
       "      <td>0.353480</td>\n",
       "      <td>0.499424</td>\n",
       "      <td>0.343476</td>\n",
       "      <td>0.854566</td>\n",
       "    </tr>\n",
       "    <tr>\n",
       "      <th>9</th>\n",
       "      <td>0.200579</td>\n",
       "      <td>0.286139</td>\n",
       "      <td>0.430248</td>\n",
       "      <td>0.373596</td>\n",
       "      <td>0.806113</td>\n",
       "    </tr>\n",
       "  </tbody>\n",
       "</table>\n",
       "</div>"
      ],
      "text/plain": [
       "        ARI       FMI       NMI  Silhouette_score  Davies_bouldin_score\n",
       "0  0.347229  0.414885  0.526703          0.351040              0.840327\n",
       "1  0.251709  0.340248  0.454255          0.408976              0.848396\n",
       "2  0.297113  0.372700  0.492017          0.328217              0.911483\n",
       "3  0.298408  0.373428  0.467351          0.364948              0.888432\n",
       "4  0.252838  0.328184  0.466559          0.357730              0.854059\n",
       "5  0.206350  0.293924  0.411874          0.353017              0.893596\n",
       "6  0.218387  0.299364  0.432462          0.340082              0.927384\n",
       "7  0.223848  0.305539  0.443163          0.300323              0.940935\n",
       "8  0.276647  0.353480  0.499424          0.343476              0.854566\n",
       "9  0.200579  0.286139  0.430248          0.373596              0.806113"
      ]
     },
     "execution_count": 9,
     "metadata": {},
     "output_type": "execute_result"
    }
   ],
   "source": [
    "pd.DataFrame(res_agglomerative_neuroDAVIS,columns =['ARI','FMI','NMI','Silhouette_score','Davies_bouldin_score'])"
   ]
  },
  {
   "cell_type": "code",
   "execution_count": null,
   "id": "7546735a",
   "metadata": {},
   "outputs": [],
   "source": []
  }
 ],
 "metadata": {
  "kernelspec": {
   "display_name": "Python 3 (ipykernel)",
   "language": "python",
   "name": "python3"
  },
  "language_info": {
   "codemirror_mode": {
    "name": "ipython",
    "version": 3
   },
   "file_extension": ".py",
   "mimetype": "text/x-python",
   "name": "python",
   "nbconvert_exporter": "python",
   "pygments_lexer": "ipython3",
   "version": "3.10.6"
  }
 },
 "nbformat": 4,
 "nbformat_minor": 5
}
