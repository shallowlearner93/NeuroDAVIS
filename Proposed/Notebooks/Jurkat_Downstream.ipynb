{
 "cells": [
  {
   "cell_type": "markdown",
   "id": "cd5be007",
   "metadata": {},
   "source": [
    "# Importing libraries"
   ]
  },
  {
   "cell_type": "code",
   "execution_count": 1,
   "id": "f6f17284",
   "metadata": {},
   "outputs": [],
   "source": [
    "import numpy as np\n",
    "import pandas as pd\n",
    "import matplotlib.pyplot as plt\n",
    "import Datasets as DS\n",
    "import NeuroDAVIS as nd\n",
    "import DownstreamAnalysis as DA\n",
    "from sklearn.metrics.pairwise import euclidean_distances"
   ]
  },
  {
   "cell_type": "markdown",
   "id": "c3c3904e",
   "metadata": {},
   "source": [
    "# Loading data"
   ]
  },
  {
   "cell_type": "code",
   "execution_count": 2,
   "id": "27867353",
   "metadata": {},
   "outputs": [],
   "source": [
    "X,y = DS.LoadData('Jurkat')"
   ]
  },
  {
   "cell_type": "code",
   "execution_count": 3,
   "id": "54e9c71d",
   "metadata": {},
   "outputs": [
    {
     "data": {
      "text/plain": [
       "(3364, 2423)"
      ]
     },
     "execution_count": 3,
     "metadata": {},
     "output_type": "execute_result"
    }
   ],
   "source": [
    "X.shape"
   ]
  },
  {
   "cell_type": "code",
   "execution_count": 4,
   "id": "757d603a",
   "metadata": {},
   "outputs": [],
   "source": [
    "y = y.reshape((y.shape[0],))"
   ]
  },
  {
   "cell_type": "markdown",
   "id": "e0394813",
   "metadata": {},
   "source": [
    "# Applying NeuroDAVIS"
   ]
  },
  {
   "cell_type": "code",
   "execution_count": 5,
   "id": "fdfa0072",
   "metadata": {
    "scrolled": true
   },
   "outputs": [
    {
     "name": "stdout",
     "output_type": "stream",
     "text": [
      "Iteration 1\n",
      "Iteration 2\n",
      "Iteration 3\n",
      "Iteration 4\n",
      "Iteration 5\n",
      "Iteration 6\n",
      "Iteration 7\n",
      "Iteration 8\n",
      "Iteration 9\n",
      "Iteration 10\n"
     ]
    }
   ],
   "source": [
    "iteration = 10\n",
    "data = np.eye(X.shape[0])\n",
    "res_kmeans_neuroDAVIS = []\n",
    "res_agglomerative_neuroDAVIS = []\n",
    "for i in range(iteration):\n",
    "    print(\"Iteration {}\".format(i+1))\n",
    "    neuroDAVIS, Low = nd.NeuroDAVIS(data, X, dim=2, lambda_act=0.000001, lambda_weight=0.00001, num_neuron=[100,200], bs=16, epoch=2000, sd=0, verbose=0)\n",
    "    X_embedding = Low.predict(data)\n",
    "    res_kmeans_neuroDAVIS.append(DA.kmeans(X_embedding, y))\n",
    "    res_agglomerative_neuroDAVIS.append(DA.Agglomerative(X_embedding, y))"
   ]
  },
  {
   "cell_type": "code",
   "execution_count": 6,
   "id": "b5de3e3b",
   "metadata": {},
   "outputs": [
    {
     "data": {
      "text/html": [
       "<div>\n",
       "<style scoped>\n",
       "    .dataframe tbody tr th:only-of-type {\n",
       "        vertical-align: middle;\n",
       "    }\n",
       "\n",
       "    .dataframe tbody tr th {\n",
       "        vertical-align: top;\n",
       "    }\n",
       "\n",
       "    .dataframe thead th {\n",
       "        text-align: right;\n",
       "    }\n",
       "</style>\n",
       "<table border=\"1\" class=\"dataframe\">\n",
       "  <thead>\n",
       "    <tr style=\"text-align: right;\">\n",
       "      <th></th>\n",
       "      <th>ARI</th>\n",
       "      <th>FMI</th>\n",
       "      <th>NMI</th>\n",
       "      <th>Silhouette_score</th>\n",
       "      <th>Davies_bouldin_score</th>\n",
       "    </tr>\n",
       "  </thead>\n",
       "  <tbody>\n",
       "    <tr>\n",
       "      <th>0</th>\n",
       "      <td>0.300182</td>\n",
       "      <td>0.387185</td>\n",
       "      <td>0.478947</td>\n",
       "      <td>0.344474</td>\n",
       "      <td>0.859746</td>\n",
       "    </tr>\n",
       "    <tr>\n",
       "      <th>1</th>\n",
       "      <td>0.239318</td>\n",
       "      <td>0.330475</td>\n",
       "      <td>0.430644</td>\n",
       "      <td>0.348868</td>\n",
       "      <td>0.860681</td>\n",
       "    </tr>\n",
       "    <tr>\n",
       "      <th>2</th>\n",
       "      <td>0.313189</td>\n",
       "      <td>0.406203</td>\n",
       "      <td>0.468657</td>\n",
       "      <td>0.365769</td>\n",
       "      <td>0.849642</td>\n",
       "    </tr>\n",
       "    <tr>\n",
       "      <th>3</th>\n",
       "      <td>0.258995</td>\n",
       "      <td>0.356989</td>\n",
       "      <td>0.416750</td>\n",
       "      <td>0.337014</td>\n",
       "      <td>0.893048</td>\n",
       "    </tr>\n",
       "    <tr>\n",
       "      <th>4</th>\n",
       "      <td>0.272798</td>\n",
       "      <td>0.367914</td>\n",
       "      <td>0.448081</td>\n",
       "      <td>0.356386</td>\n",
       "      <td>0.869152</td>\n",
       "    </tr>\n",
       "    <tr>\n",
       "      <th>5</th>\n",
       "      <td>0.262717</td>\n",
       "      <td>0.359616</td>\n",
       "      <td>0.422834</td>\n",
       "      <td>0.383444</td>\n",
       "      <td>0.814450</td>\n",
       "    </tr>\n",
       "    <tr>\n",
       "      <th>6</th>\n",
       "      <td>0.340804</td>\n",
       "      <td>0.423396</td>\n",
       "      <td>0.455439</td>\n",
       "      <td>0.355790</td>\n",
       "      <td>0.904637</td>\n",
       "    </tr>\n",
       "    <tr>\n",
       "      <th>7</th>\n",
       "      <td>0.311866</td>\n",
       "      <td>0.395912</td>\n",
       "      <td>0.485957</td>\n",
       "      <td>0.349288</td>\n",
       "      <td>0.871419</td>\n",
       "    </tr>\n",
       "    <tr>\n",
       "      <th>8</th>\n",
       "      <td>0.311877</td>\n",
       "      <td>0.401399</td>\n",
       "      <td>0.453650</td>\n",
       "      <td>0.380708</td>\n",
       "      <td>0.808426</td>\n",
       "    </tr>\n",
       "    <tr>\n",
       "      <th>9</th>\n",
       "      <td>0.328134</td>\n",
       "      <td>0.412025</td>\n",
       "      <td>0.493593</td>\n",
       "      <td>0.347126</td>\n",
       "      <td>0.878207</td>\n",
       "    </tr>\n",
       "  </tbody>\n",
       "</table>\n",
       "</div>"
      ],
      "text/plain": [
       "        ARI       FMI       NMI  Silhouette_score  Davies_bouldin_score\n",
       "0  0.300182  0.387185  0.478947          0.344474              0.859746\n",
       "1  0.239318  0.330475  0.430644          0.348868              0.860681\n",
       "2  0.313189  0.406203  0.468657          0.365769              0.849642\n",
       "3  0.258995  0.356989  0.416750          0.337014              0.893048\n",
       "4  0.272798  0.367914  0.448081          0.356386              0.869152\n",
       "5  0.262717  0.359616  0.422834          0.383444              0.814450\n",
       "6  0.340804  0.423396  0.455439          0.355790              0.904637\n",
       "7  0.311866  0.395912  0.485957          0.349288              0.871419\n",
       "8  0.311877  0.401399  0.453650          0.380708              0.808426\n",
       "9  0.328134  0.412025  0.493593          0.347126              0.878207"
      ]
     },
     "execution_count": 6,
     "metadata": {},
     "output_type": "execute_result"
    }
   ],
   "source": [
    "pd.DataFrame(res_kmeans_neuroDAVIS,columns =['ARI','FMI','NMI','Silhouette_score','Davies_bouldin_score'])"
   ]
  },
  {
   "cell_type": "code",
   "execution_count": 7,
   "id": "892cdc45",
   "metadata": {},
   "outputs": [
    {
     "data": {
      "text/html": [
       "<div>\n",
       "<style scoped>\n",
       "    .dataframe tbody tr th:only-of-type {\n",
       "        vertical-align: middle;\n",
       "    }\n",
       "\n",
       "    .dataframe tbody tr th {\n",
       "        vertical-align: top;\n",
       "    }\n",
       "\n",
       "    .dataframe thead th {\n",
       "        text-align: right;\n",
       "    }\n",
       "</style>\n",
       "<table border=\"1\" class=\"dataframe\">\n",
       "  <thead>\n",
       "    <tr style=\"text-align: right;\">\n",
       "      <th></th>\n",
       "      <th>ARI</th>\n",
       "      <th>FMI</th>\n",
       "      <th>NMI</th>\n",
       "      <th>Silhouette_score</th>\n",
       "      <th>Davies_bouldin_score</th>\n",
       "    </tr>\n",
       "  </thead>\n",
       "  <tbody>\n",
       "    <tr>\n",
       "      <th>0</th>\n",
       "      <td>0.332316</td>\n",
       "      <td>0.421362</td>\n",
       "      <td>0.498264</td>\n",
       "      <td>0.298373</td>\n",
       "      <td>0.921974</td>\n",
       "    </tr>\n",
       "    <tr>\n",
       "      <th>1</th>\n",
       "      <td>0.248015</td>\n",
       "      <td>0.336836</td>\n",
       "      <td>0.439449</td>\n",
       "      <td>0.295694</td>\n",
       "      <td>0.994478</td>\n",
       "    </tr>\n",
       "    <tr>\n",
       "      <th>2</th>\n",
       "      <td>0.304875</td>\n",
       "      <td>0.407844</td>\n",
       "      <td>0.441551</td>\n",
       "      <td>0.332331</td>\n",
       "      <td>0.827124</td>\n",
       "    </tr>\n",
       "    <tr>\n",
       "      <th>3</th>\n",
       "      <td>0.262136</td>\n",
       "      <td>0.363869</td>\n",
       "      <td>0.437644</td>\n",
       "      <td>0.299736</td>\n",
       "      <td>0.962283</td>\n",
       "    </tr>\n",
       "    <tr>\n",
       "      <th>4</th>\n",
       "      <td>0.340667</td>\n",
       "      <td>0.429609</td>\n",
       "      <td>0.474934</td>\n",
       "      <td>0.320957</td>\n",
       "      <td>0.932205</td>\n",
       "    </tr>\n",
       "    <tr>\n",
       "      <th>5</th>\n",
       "      <td>0.258809</td>\n",
       "      <td>0.355754</td>\n",
       "      <td>0.408263</td>\n",
       "      <td>0.342758</td>\n",
       "      <td>0.857311</td>\n",
       "    </tr>\n",
       "    <tr>\n",
       "      <th>6</th>\n",
       "      <td>0.302363</td>\n",
       "      <td>0.390005</td>\n",
       "      <td>0.442126</td>\n",
       "      <td>0.303023</td>\n",
       "      <td>0.941297</td>\n",
       "    </tr>\n",
       "    <tr>\n",
       "      <th>7</th>\n",
       "      <td>0.272834</td>\n",
       "      <td>0.364553</td>\n",
       "      <td>0.467348</td>\n",
       "      <td>0.295378</td>\n",
       "      <td>0.950627</td>\n",
       "    </tr>\n",
       "    <tr>\n",
       "      <th>8</th>\n",
       "      <td>0.260895</td>\n",
       "      <td>0.357621</td>\n",
       "      <td>0.423546</td>\n",
       "      <td>0.324654</td>\n",
       "      <td>0.899284</td>\n",
       "    </tr>\n",
       "    <tr>\n",
       "      <th>9</th>\n",
       "      <td>0.342974</td>\n",
       "      <td>0.422788</td>\n",
       "      <td>0.494525</td>\n",
       "      <td>0.295985</td>\n",
       "      <td>0.989006</td>\n",
       "    </tr>\n",
       "  </tbody>\n",
       "</table>\n",
       "</div>"
      ],
      "text/plain": [
       "        ARI       FMI       NMI  Silhouette_score  Davies_bouldin_score\n",
       "0  0.332316  0.421362  0.498264          0.298373              0.921974\n",
       "1  0.248015  0.336836  0.439449          0.295694              0.994478\n",
       "2  0.304875  0.407844  0.441551          0.332331              0.827124\n",
       "3  0.262136  0.363869  0.437644          0.299736              0.962283\n",
       "4  0.340667  0.429609  0.474934          0.320957              0.932205\n",
       "5  0.258809  0.355754  0.408263          0.342758              0.857311\n",
       "6  0.302363  0.390005  0.442126          0.303023              0.941297\n",
       "7  0.272834  0.364553  0.467348          0.295378              0.950627\n",
       "8  0.260895  0.357621  0.423546          0.324654              0.899284\n",
       "9  0.342974  0.422788  0.494525          0.295985              0.989006"
      ]
     },
     "execution_count": 7,
     "metadata": {},
     "output_type": "execute_result"
    }
   ],
   "source": [
    "pd.DataFrame(res_agglomerative_neuroDAVIS,columns =['ARI','FMI','NMI','Silhouette_score','Davies_bouldin_score'])"
   ]
  },
  {
   "cell_type": "code",
   "execution_count": null,
   "id": "7546735a",
   "metadata": {},
   "outputs": [],
   "source": []
  }
 ],
 "metadata": {
  "kernelspec": {
   "display_name": "Python 3 (ipykernel)",
   "language": "python",
   "name": "python3"
  },
  "language_info": {
   "codemirror_mode": {
    "name": "ipython",
    "version": 3
   },
   "file_extension": ".py",
   "mimetype": "text/x-python",
   "name": "python",
   "nbconvert_exporter": "python",
   "pygments_lexer": "ipython3",
   "version": "3.10.6"
  }
 },
 "nbformat": 4,
 "nbformat_minor": 5
}
